{
  "nbformat": 4,
  "nbformat_minor": 0,
  "metadata": {
    "colab": {
      "name": "BigDataBouns.ipynb",
      "provenance": [],
      "collapsed_sections": [],
      "mount_file_id": "1O-P6Y-y6sjzxpjDHvoQAeUUDa_oeJQmn",
      "authorship_tag": "ABX9TyNlhHcD/Ohk/ZjYHRQ/OzQ5",
      "include_colab_link": true
    },
    "kernelspec": {
      "name": "python3",
      "display_name": "Python 3"
    },
    "language_info": {
      "name": "python"
    }
  },
  "cells": [
    {
      "cell_type": "markdown",
      "metadata": {
        "id": "view-in-github",
        "colab_type": "text"
      },
      "source": [
        "<a href=\"https://colab.research.google.com/github/MohamadNasser7/MohamadNasser7/blob/main/BigDataBouns.ipynb\" target=\"_parent\"><img src=\"https://colab.research.google.com/assets/colab-badge.svg\" alt=\"Open In Colab\"/></a>"
      ]
    },
    {
      "cell_type": "markdown",
      "source": [
        "#                   ***It always seems impossible until it’s done.***"
      ],
      "metadata": {
        "id": "h8dHsU4ziD8O"
      }
    },
    {
      "cell_type": "markdown",
      "source": [
        "**install pyspark and spark-nl libraries**"
      ],
      "metadata": {
        "id": "J1sKeOGoEZLs"
      }
    },
    {
      "cell_type": "code",
      "execution_count": null,
      "metadata": {
        "id": "3r4AkfW_bh9H"
      },
      "outputs": [],
      "source": [
        "! pip install -q pyspark==3.1.2 spark-nlp\n"
      ]
    },
    {
      "cell_type": "markdown",
      "source": [
        "**configurations for colab to run code correctly**"
      ],
      "metadata": {
        "id": "mSU--j5KEtRM"
      }
    },
    {
      "cell_type": "code",
      "source": [
        "import os\n",
        "\n",
        "# Install java\n",
        "! apt-get update -qq\n",
        "! apt-get install -y openjdk-8-jdk-headless -qq > /dev/null\n",
        "\n",
        "!wget -q https://archive.apache.org/dist/spark/spark-2.3.0/spark-2.3.0-bin-hadoop2.7.tgz\n",
        "\n",
        "!tar xf spark-2.3.0-bin-hadoop2.7.tgz\n",
        "!pip install -q findspark\n",
        "\n",
        "os.environ[\"JAVA_HOME\"] = \"/usr/lib/jvm/java-8-openjdk-amd64\"\n",
        "os.environ[\"PATH\"] = os.environ[\"JAVA_HOME\"] + \"/bin:\" + os.environ[\"PATH\"]\n",
        "os.environ[\"SPARK_HOME\"] = \"/content/spark-2.3.0-bin-hadoop2.7\"\n",
        "! java -version\n",
        "\n",
        "import findspark\n",
        "findspark.init()\n",
        "from pyspark.sql import SparkSession\n",
        "\n",
        "! pip install --ignore-installed -q spark-nlp==2.7.5\n",
        "\n",
        "import sparknlp\n",
        "\n"
      ],
      "metadata": {
        "colab": {
          "base_uri": "https://localhost:8080/"
        },
        "id": "le-bQCaQbk2S",
        "outputId": "6ac16cac-acdf-452c-eda5-fbc82211d47d"
      },
      "execution_count": null,
      "outputs": [
        {
          "output_type": "stream",
          "name": "stdout",
          "text": [
            "openjdk version \"1.8.0_312\"\n",
            "OpenJDK Runtime Environment (build 1.8.0_312-8u312-b07-0ubuntu1~18.04-b07)\n",
            "OpenJDK 64-Bit Server VM (build 25.312-b07, mixed mode)\n"
          ]
        }
      ]
    },
    {
      "cell_type": "markdown",
      "source": [
        "**import things ♾**"
      ],
      "metadata": {
        "id": "sPjcAX5iFLAb"
      }
    },
    {
      "cell_type": "code",
      "source": [
        "import sparknlp\n",
        "import pyspark\n",
        "import pandas as pd\n",
        "from google.colab import drive\n",
        "from sparknlp.base import *\n",
        "from sparknlp.annotator import *\n",
        "from sparknlp.embeddings import *\n",
        "from pyspark.sql import SparkSession\n",
        "from pyspark.sql.functions import pandas_udf, PandasUDFType\n",
        "from pyspark.sql.types import *\n",
        "import pandas as pd\n",
        "from pyspark.sql.functions import col\n",
        "from pyspark.sql.functions import explode\n",
        "from pyspark.sql.functions import countDistinct, avg, stddev\n",
        "import matplotlib.pyplot as plt\n",
        "\n"
      ],
      "metadata": {
        "id": "VyvywpRVFJ5j"
      },
      "execution_count": null,
      "outputs": []
    },
    {
      "cell_type": "markdown",
      "source": [
        "**start function do all default configuration for object to start work without write it manually**"
      ],
      "metadata": {
        "id": "bZKW6ljlFdCE"
      }
    },
    {
      "cell_type": "code",
      "source": [
        "spark = sparknlp.start()"
      ],
      "metadata": {
        "id": "odkRhMkRbk44"
      },
      "execution_count": null,
      "outputs": []
    },
    {
      "cell_type": "markdown",
      "source": [
        "**make the head of driver object points to given location**"
      ],
      "metadata": {
        "id": "F05LesjvFtWV"
      }
    },
    {
      "cell_type": "code",
      "source": [
        "drive.mount('/content/drive')\n"
      ],
      "metadata": {
        "colab": {
          "base_uri": "https://localhost:8080/"
        },
        "id": "HS9v9TxVbk7P",
        "outputId": "5f99983b-06f1-4c6e-a54d-ad85093c0c44"
      },
      "execution_count": null,
      "outputs": [
        {
          "output_type": "stream",
          "name": "stdout",
          "text": [
            "Drive already mounted at /content/drive; to attempt to forcibly remount, call drive.mount(\"/content/drive\", force_remount=True).\n"
          ]
        }
      ]
    },
    {
      "cell_type": "markdown",
      "source": [
        "**read parquet files containing data from my drive**"
      ],
      "metadata": {
        "id": "rPTMor-aF-fk"
      }
    },
    {
      "cell_type": "code",
      "source": [
        "df = spark.read.parquet(\"/content/drive/MyDrive/spark_nlp_dataset.parquet\")"
      ],
      "metadata": {
        "id": "T4lMbbH4Fwia"
      },
      "execution_count": null,
      "outputs": []
    },
    {
      "cell_type": "markdown",
      "source": [
        "\n",
        "**create documentAssembler Trasformer to use it for to get data ready for other annotators**\n",
        "\n"
      ],
      "metadata": {
        "id": "XPHQTnYaGWqj"
      }
    },
    {
      "cell_type": "code",
      "source": [
        "documentAssembler = DocumentAssembler().setInputCol(\"text\").setOutputCol(\"document\")"
      ],
      "metadata": {
        "id": "xfWyPUrTGXGD"
      },
      "execution_count": null,
      "outputs": []
    },
    {
      "cell_type": "markdown",
      "source": [
        "***create sentenceDetector to detected sentence boundres for each row of data ***"
      ],
      "metadata": {
        "id": "gNT3phuTGWQd"
      }
    },
    {
      "cell_type": "code",
      "source": [
        "sentenceDetector = SentenceDetector() \\\n",
        ".setInputCols([\"document\"])\\\n",
        ".setOutputCol(\"sentence\")\n"
      ],
      "metadata": {
        "id": "ofT4fbGdHBUL"
      },
      "execution_count": null,
      "outputs": []
    },
    {
      "cell_type": "markdown",
      "source": [
        "**`create tokenizer to split lines to tokens each token represent a word `**"
      ],
      "metadata": {
        "id": "5e6Osnf-HD5t"
      }
    },
    {
      "cell_type": "code",
      "source": [
        "tokenizer = Tokenizer() \\\n",
        "    .setInputCols([\"sentence\"]) \\\n",
        "    .setOutputCol(\"token\")"
      ],
      "metadata": {
        "id": "yvjW0cJPHEQF"
      },
      "execution_count": null,
      "outputs": []
    },
    {
      "cell_type": "markdown",
      "source": [
        "**load pre trained WordEmbeddingsModel(\"Glove\") to use it in pipeline and set the language to english**"
      ],
      "metadata": {
        "id": "GzWy4Ak6HGdj"
      }
    },
    {
      "cell_type": "code",
      "source": [
        "word_emb_glove = WordEmbeddingsModel.pretrained(\"glove_100d\", lang=\"en\")\n"
      ],
      "metadata": {
        "colab": {
          "base_uri": "https://localhost:8080/"
        },
        "id": "LGifkoWdHGZt",
        "outputId": "c1d90442-f40d-49ab-b604-6d67504f2c28"
      },
      "execution_count": null,
      "outputs": [
        {
          "output_type": "stream",
          "name": "stdout",
          "text": [
            "glove_100d download started this may take some time.\n",
            "Approximate size to download 145.3 MB\n",
            "[OK!]\n"
          ]
        }
      ]
    },
    {
      "cell_type": "markdown",
      "source": [
        "**load pre trained PerceptronModel to use it in pipeline for the data **"
      ],
      "metadata": {
        "id": "Ta7Cp7RtHGS8"
      }
    },
    {
      "cell_type": "code",
      "source": [
        "per_pos_model = PerceptronModel.pretrained(\"pos_anc\", lang=\"en\")\n"
      ],
      "metadata": {
        "colab": {
          "base_uri": "https://localhost:8080/"
        },
        "id": "2kqn08IaHGN0",
        "outputId": "56074367-4ac4-4d9f-cb5c-a93d82391dd8"
      },
      "execution_count": null,
      "outputs": [
        {
          "output_type": "stream",
          "name": "stdout",
          "text": [
            "pos_anc download started this may take some time.\n",
            "Approximate size to download 4.3 MB\n",
            "[OK!]\n"
          ]
        }
      ]
    },
    {
      "cell_type": "markdown",
      "source": [
        "***load pre trained NerCrfModel to use it in pipeline for the data ***"
      ],
      "metadata": {
        "id": "BXjN3l9wHGJN"
      }
    },
    {
      "cell_type": "code",
      "source": [
        "ner_with_glove = NerCrfModel.pretrained(\"ner_crf\", lang=\"en\")"
      ],
      "metadata": {
        "colab": {
          "base_uri": "https://localhost:8080/"
        },
        "id": "LmXIv--jHGDG",
        "outputId": "b00a3b92-23a9-4fa4-abc8-be34153c1474"
      },
      "execution_count": null,
      "outputs": [
        {
          "output_type": "stream",
          "name": "stdout",
          "text": [
            "ner_crf download started this may take some time.\n",
            "Approximate size to download 10.1 MB\n",
            "[OK!]\n"
          ]
        }
      ]
    },
    {
      "cell_type": "markdown",
      "source": [
        "**create a PipeLine with the the 6 stages we defined up**"
      ],
      "metadata": {
        "id": "SyuxoVgwHF9L"
      }
    },
    {
      "cell_type": "code",
      "source": [
        "recursivePipeline = RecursivePipeline(stages=[\n",
        "        documentAssembler,\n",
        "        sentenceDetector, \n",
        "        tokenizer,\n",
        "        word_emb_glove,\n",
        "        per_pos_model,\n",
        "        ner_with_glove\n",
        "])"
      ],
      "metadata": {
        "id": "PyxJChIfHFuT"
      },
      "execution_count": null,
      "outputs": []
    },
    {
      "cell_type": "markdown",
      "source": [
        "**create a model from defined pipeline to use it to transform data and get the results**"
      ],
      "metadata": {
        "id": "2lq10i3RHFOD"
      }
    },
    {
      "cell_type": "code",
      "source": [
        "fitted_model = recursivePipeline.fit(df)\n"
      ],
      "metadata": {
        "id": "nRLAfcHdHE2b"
      },
      "execution_count": null,
      "outputs": []
    },
    {
      "cell_type": "markdown",
      "source": [
        "***apply generated model on the original data to get the results ***"
      ],
      "metadata": {
        "id": "mh0ZiLUQIVKs"
      }
    },
    {
      "cell_type": "code",
      "source": [
        "new_df = fitted_model.transform(df)\n"
      ],
      "metadata": {
        "id": "2yiwM8kBIU4b"
      },
      "execution_count": null,
      "outputs": []
    },
    {
      "cell_type": "markdown",
      "source": [
        "**the result for each stage in the pipeline**"
      ],
      "metadata": {
        "id": "BgVlMFnaIU0A"
      }
    },
    {
      "cell_type": "code",
      "source": [
        "df.show(1,False)\n",
        "new_df.select(\"document.result\").show(1,False)\n",
        "new_df.select(\"sentence.result\").show(1,False)\n",
        "new_df.select(\"token.result\").show(1,False)\n",
        "new_df.select(\"embeddings.result\").show(1,False)\n",
        "new_df.select(\"pos.result\").show(1,False)\n",
        "new_df.select(\"ner.result\").show(1,False)"
      ],
      "metadata": {
        "colab": {
          "base_uri": "https://localhost:8080/"
        },
        "id": "R0cPaJVpIUvU",
        "outputId": "ba17f29a-18dd-4107-fa11-c1e22c73d6e2"
      },
      "execution_count": null,
      "outputs": [
        {
          "output_type": "stream",
          "name": "stdout",
          "text": [
            "+-------------------------------------------+\n",
            "|text                                       |\n",
            "+-------------------------------------------+\n",
            "|Reuters historical calendar - September 7 .|\n",
            "+-------------------------------------------+\n",
            "only showing top 1 row\n",
            "\n",
            "+---------------------------------------------+\n",
            "|result                                       |\n",
            "+---------------------------------------------+\n",
            "|[Reuters historical calendar - September 7 .]|\n",
            "+---------------------------------------------+\n",
            "only showing top 1 row\n",
            "\n",
            "+---------------------------------------------+\n",
            "|result                                       |\n",
            "+---------------------------------------------+\n",
            "|[Reuters historical calendar - September 7 .]|\n",
            "+---------------------------------------------+\n",
            "only showing top 1 row\n",
            "\n",
            "+---------------------------------------------------+\n",
            "|result                                             |\n",
            "+---------------------------------------------------+\n",
            "|[Reuters, historical, calendar, -, September, 7, .]|\n",
            "+---------------------------------------------------+\n",
            "only showing top 1 row\n",
            "\n",
            "+---------------------------------------------------+\n",
            "|result                                             |\n",
            "+---------------------------------------------------+\n",
            "|[Reuters, historical, calendar, -, September, 7, .]|\n",
            "+---------------------------------------------------+\n",
            "only showing top 1 row\n",
            "\n",
            "+----------------------------+\n",
            "|result                      |\n",
            "+----------------------------+\n",
            "|[NNP, JJ, NN, -, NNP, CD, .]|\n",
            "+----------------------------+\n",
            "only showing top 1 row\n",
            "\n",
            "+-------------------------+\n",
            "|result                   |\n",
            "+-------------------------+\n",
            "|[I-ORG, O, O, O, O, O, O]|\n",
            "+-------------------------+\n",
            "only showing top 1 row\n",
            "\n"
          ]
        }
      ]
    },
    {
      "cell_type": "markdown",
      "source": [
        "**show (Named *Entity* Recognition ) stage results**\n",
        "\n",
        "```\n",
        "# This is formatted as code\n",
        "```\n",
        "\n"
      ],
      "metadata": {
        "id": "N7ahrM5jIUhe"
      }
    },
    {
      "cell_type": "code",
      "source": [
        "ner = new_df.select(explode(\"ner\")).select(col(\"col.result\").alias(\"ner\"))\n",
        "ner.show()"
      ],
      "metadata": {
        "colab": {
          "base_uri": "https://localhost:8080/"
        },
        "id": "BF-mB9LKLCCP",
        "outputId": "9244ede4-f16d-466c-ddac-df67805e6542"
      },
      "execution_count": null,
      "outputs": [
        {
          "output_type": "stream",
          "name": "stdout",
          "text": [
            "+-----+\n",
            "|  ner|\n",
            "+-----+\n",
            "|I-ORG|\n",
            "|    O|\n",
            "|    O|\n",
            "|    O|\n",
            "|    O|\n",
            "|    O|\n",
            "|    O|\n",
            "|    O|\n",
            "|    O|\n",
            "|    O|\n",
            "|    O|\n",
            "|    O|\n",
            "|    O|\n",
            "|    O|\n",
            "|    O|\n",
            "|    O|\n",
            "|    O|\n",
            "|    O|\n",
            "|    O|\n",
            "|    O|\n",
            "+-----+\n",
            "only showing top 20 rows\n",
            "\n"
          ]
        }
      ]
    },
    {
      "cell_type": "markdown",
      "source": [
        "**Convert from SparkDataFrame to Pandas Dataframe to do some ploting 😠**"
      ],
      "metadata": {
        "id": "QvGFfdihZXdE"
      }
    },
    {
      "cell_type": "code",
      "source": [
        "pner = ner.toPandas()"
      ],
      "metadata": {
        "id": "IREz_Kl7MPlZ"
      },
      "execution_count": null,
      "outputs": []
    },
    {
      "cell_type": "markdown",
      "source": [
        "**Plot bar char to see each categorie of *NER* how many times be predected **"
      ],
      "metadata": {
        "id": "mJCMaTlJZknF"
      }
    },
    {
      "cell_type": "code",
      "source": [
        "pner[\"ner\"].value_counts().plot(kind='bar')\n",
        "plt.show()"
      ],
      "metadata": {
        "colab": {
          "base_uri": "https://localhost:8080/",
          "height": 290
        },
        "id": "ll-wJeRnMm0f",
        "outputId": "dfc61bf2-cf4b-4e3a-97b5-5ce59fbd321e"
      },
      "execution_count": null,
      "outputs": [
        {
          "output_type": "display_data",
          "data": {
            "image/png": "[encoded data removed]",
            "text/plain": [
              "<Figure size 432x288 with 1 Axes>"
            ]
          },
          "metadata": {
            "needs_background": "light"
          }
        }
      ]
    },
    {
      "cell_type": "markdown",
      "source": [
        "\n",
        "\n",
        " **We can see that the Most frequent *NER* Categorie appears is *\"O\"* wich is not refers to entities of interest**\n"
      ],
      "metadata": {
        "id": "ED0TWBnWZ4BX"
      }
    },
    {
      "cell_type": "markdown",
      "source": [
        "**show (PART OF SPEECH ) stage results**\n"
      ],
      "metadata": {
        "id": "RLYS-rt1bcYe"
      }
    },
    {
      "cell_type": "code",
      "source": [
        "\n",
        "pos = df_with_annotations.select(explode(\"pos\")).select(col(\"col.result\").alias(\"pos\"))\n",
        "pos.show()"
      ],
      "metadata": {
        "id": "4gfNdjXrM5yV",
        "colab": {
          "base_uri": "https://localhost:8080/"
        },
        "outputId": "8d2ba98c-a872-4346-f91c-c672b6e6a11b"
      },
      "execution_count": null,
      "outputs": [
        {
          "output_type": "stream",
          "name": "stdout",
          "text": [
            "+---+\n",
            "|pos|\n",
            "+---+\n",
            "|NNP|\n",
            "| JJ|\n",
            "| NN|\n",
            "|  -|\n",
            "|NNP|\n",
            "| CD|\n",
            "|  .|\n",
            "|VBG|\n",
            "|VBP|\n",
            "| DT|\n",
            "| IN|\n",
            "| DT|\n",
            "| JJ|\n",
            "|NNS|\n",
            "| TO|\n",
            "| VB|\n",
            "|VBN|\n",
            "| IN|\n",
            "|NNP|\n",
            "| CD|\n",
            "+---+\n",
            "only showing top 20 rows\n",
            "\n"
          ]
        }
      ]
    },
    {
      "cell_type": "markdown",
      "source": [
        "Convert from SparkDataFrame to Pandas Dataframe to do some ploting 😠"
      ],
      "metadata": {
        "id": "Z3cJHMNXbiNV"
      }
    },
    {
      "cell_type": "code",
      "source": [
        "ppos = pos.toPandas()"
      ],
      "metadata": {
        "id": "Nm60O26-OCyu"
      },
      "execution_count": null,
      "outputs": []
    },
    {
      "cell_type": "markdown",
      "source": [
        "**Plot bar char to see each categorie of *POS* how many times be predected **"
      ],
      "metadata": {
        "id": "sSiPu-rrbjMm"
      }
    },
    {
      "cell_type": "code",
      "source": [
        "ppos[\"pos\"].value_counts().plot(kind='bar',figsize=(20, 10))\n",
        "plt.show()"
      ],
      "metadata": {
        "colab": {
          "base_uri": "https://localhost:8080/",
          "height": 609
        },
        "id": "HWV56FSxODO8",
        "outputId": "615721f8-62c6-4052-972c-4465ae23fa8b"
      },
      "execution_count": null,
      "outputs": [
        {
          "output_type": "display_data",
          "data": {
            "image/png": "[encoded data removed]",
            "text/plain": [
              "<Figure size 1440x720 with 1 Axes>"
            ]
          },
          "metadata": {
            "needs_background": "light"
          }
        }
      ]
    },
    {
      "cell_type": "markdown",
      "source": [
        "\n",
        "\n",
        " **We can see that the Most frequent *POS* Categorie appears is *\"NNP\"* wich is  refers to proper noun **\n"
      ],
      "metadata": {
        "id": "NGs8h5p6bzxd"
      }
    },
    {
      "cell_type": "markdown",
      "source": [
        "**Merge the two dataframes above to one dataframe containg each POS AND NER predection for each token**"
      ],
      "metadata": {
        "id": "5aaMbuupcIWO"
      }
    },
    {
      "cell_type": "code",
      "source": [
        "pos_items = pd_df_annotated.pos.apply(pd.DataFrame).tolist()\n",
        "ner_items = pd_df_annotated.ner.apply(pd.DataFrame).tolist()\n",
        "\n",
        "\n",
        "pos_df = pd.concat(pos_items)[[3]]\n",
        "ner_df = pd.concat(ner_items)[[3]]\n",
        "\n",
        "result = pd.concat([pos_df, ner_df], axis=1, sort=False)\n",
        "result.columns = [\"POS\", \"NER\"]\n",
        "\n",
        "result"
      ],
      "metadata": {
        "colab": {
          "base_uri": "https://localhost:8080/",
          "height": 423
        },
        "id": "nuqU26zAODKk",
        "outputId": "4dd408a7-418a-4033-e0e3-c80a6bdbe3c8"
      },
      "execution_count": null,
      "outputs": [
        {
          "output_type": "execute_result",
          "data": {
            "text/html": [
              "\n",
              "  <div id=\"df-4ee16486-6fda-4fd1-9796-8c67f7e7d0e6\">\n",
              "    <div class=\"colab-df-container\">\n",
              "      <div>\n",
              "<style scoped>\n",
              "    .dataframe tbody tr th:only-of-type {\n",
              "        vertical-align: middle;\n",
              "    }\n",
              "\n",
              "    .dataframe tbody tr th {\n",
              "        vertical-align: top;\n",
              "    }\n",
              "\n",
              "    .dataframe thead th {\n",
              "        text-align: right;\n",
              "    }\n",
              "</style>\n",
              "<table border=\"1\" class=\"dataframe\">\n",
              "  <thead>\n",
              "    <tr style=\"text-align: right;\">\n",
              "      <th></th>\n",
              "      <th>POS</th>\n",
              "      <th>NER</th>\n",
              "    </tr>\n",
              "  </thead>\n",
              "  <tbody>\n",
              "    <tr>\n",
              "      <th>0</th>\n",
              "      <td>NNP</td>\n",
              "      <td>I-ORG</td>\n",
              "    </tr>\n",
              "    <tr>\n",
              "      <th>1</th>\n",
              "      <td>JJ</td>\n",
              "      <td>O</td>\n",
              "    </tr>\n",
              "    <tr>\n",
              "      <th>2</th>\n",
              "      <td>NN</td>\n",
              "      <td>O</td>\n",
              "    </tr>\n",
              "    <tr>\n",
              "      <th>3</th>\n",
              "      <td>-</td>\n",
              "      <td>O</td>\n",
              "    </tr>\n",
              "    <tr>\n",
              "      <th>4</th>\n",
              "      <td>NNP</td>\n",
              "      <td>O</td>\n",
              "    </tr>\n",
              "    <tr>\n",
              "      <th>...</th>\n",
              "      <td>...</td>\n",
              "      <td>...</td>\n",
              "    </tr>\n",
              "    <tr>\n",
              "      <th>7</th>\n",
              "      <td>CD</td>\n",
              "      <td>O</td>\n",
              "    </tr>\n",
              "    <tr>\n",
              "      <th>8</th>\n",
              "      <td>)</td>\n",
              "      <td>O</td>\n",
              "    </tr>\n",
              "    <tr>\n",
              "      <th>0</th>\n",
              "      <td>NNP</td>\n",
              "      <td>O</td>\n",
              "    </tr>\n",
              "    <tr>\n",
              "      <th>1</th>\n",
              "      <td>:</td>\n",
              "      <td>O</td>\n",
              "    </tr>\n",
              "    <tr>\n",
              "      <th>2</th>\n",
              "      <td>CD</td>\n",
              "      <td>O</td>\n",
              "    </tr>\n",
              "  </tbody>\n",
              "</table>\n",
              "<p>26211 rows × 2 columns</p>\n",
              "</div>\n",
              "      <button class=\"colab-df-convert\" onclick=\"convertToInteractive('df-4ee16486-6fda-4fd1-9796-8c67f7e7d0e6')\"\n",
              "              title=\"Convert this dataframe to an interactive table.\"\n",
              "              style=\"display:none;\">\n",
              "        \n",
              "  <svg xmlns=\"http://www.w3.org/2000/svg\" height=\"24px\"viewBox=\"0 0 24 24\"\n",
              "       width=\"24px\">\n",
              "    <path d=\"M0 0h24v24H0V0z\" fill=\"none\"/>\n",
              "    <path d=\"M18.56 5.44l.94 2.06.94-2.06 2.06-.94-2.06-.94-.94-2.06-.94 2.06-2.06.94zm-11 1L8.5 8.5l.94-2.06 2.06-.94-2.06-.94L8.5 2.5l-.94 2.06-2.06.94zm10 10l.94 2.06.94-2.06 2.06-.94-2.06-.94-.94-2.06-.94 2.06-2.06.94z\"/><path d=\"M17.41 7.96l-1.37-1.37c-.4-.4-.92-.59-1.43-.59-.52 0-1.04.2-1.43.59L10.3 9.45l-7.72 7.72c-.78.78-.78 2.05 0 2.83L4 21.41c.39.39.9.59 1.41.59.51 0 1.02-.2 1.41-.59l7.78-7.78 2.81-2.81c.8-.78.8-2.07 0-2.86zM5.41 20L4 18.59l7.72-7.72 1.47 1.35L5.41 20z\"/>\n",
              "  </svg>\n",
              "      </button>\n",
              "      \n",
              "  <style>\n",
              "    .colab-df-container {\n",
              "      display:flex;\n",
              "      flex-wrap:wrap;\n",
              "      gap: 12px;\n",
              "    }\n",
              "\n",
              "    .colab-df-convert {\n",
              "      background-color: #E8F0FE;\n",
              "      border: none;\n",
              "      border-radius: 50%;\n",
              "      cursor: pointer;\n",
              "      display: none;\n",
              "      fill: #1967D2;\n",
              "      height: 32px;\n",
              "      padding: 0 0 0 0;\n",
              "      width: 32px;\n",
              "    }\n",
              "\n",
              "    .colab-df-convert:hover {\n",
              "      background-color: #E2EBFA;\n",
              "      box-shadow: 0px 1px 2px rgba(60, 64, 67, 0.3), 0px 1px 3px 1px rgba(60, 64, 67, 0.15);\n",
              "      fill: #174EA6;\n",
              "    }\n",
              "\n",
              "    [theme=dark] .colab-df-convert {\n",
              "      background-color: #3B4455;\n",
              "      fill: #D2E3FC;\n",
              "    }\n",
              "\n",
              "    [theme=dark] .colab-df-convert:hover {\n",
              "      background-color: #434B5C;\n",
              "      box-shadow: 0px 1px 3px 1px rgba(0, 0, 0, 0.15);\n",
              "      filter: drop-shadow(0px 1px 2px rgba(0, 0, 0, 0.3));\n",
              "      fill: #FFFFFF;\n",
              "    }\n",
              "  </style>\n",
              "\n",
              "      <script>\n",
              "        const buttonEl =\n",
              "          document.querySelector('#df-4ee16486-6fda-4fd1-9796-8c67f7e7d0e6 button.colab-df-convert');\n",
              "        buttonEl.style.display =\n",
              "          google.colab.kernel.accessAllowed ? 'block' : 'none';\n",
              "\n",
              "        async function convertToInteractive(key) {\n",
              "          const element = document.querySelector('#df-4ee16486-6fda-4fd1-9796-8c67f7e7d0e6');\n",
              "          const dataTable =\n",
              "            await google.colab.kernel.invokeFunction('convertToInteractive',\n",
              "                                                     [key], {});\n",
              "          if (!dataTable) return;\n",
              "\n",
              "          const docLinkHtml = 'Like what you see? Visit the ' +\n",
              "            '<a target=\"_blank\" href=https://colab.research.google.com/notebooks/data_table.ipynb>data table notebook</a>'\n",
              "            + ' to learn more about interactive tables.';\n",
              "          element.innerHTML = '';\n",
              "          dataTable['output_type'] = 'display_data';\n",
              "          await google.colab.output.renderOutput(dataTable, element);\n",
              "          const docLink = document.createElement('div');\n",
              "          docLink.innerHTML = docLinkHtml;\n",
              "          element.appendChild(docLink);\n",
              "        }\n",
              "      </script>\n",
              "    </div>\n",
              "  </div>\n",
              "  "
            ],
            "text/plain": [
              "    POS    NER\n",
              "0   NNP  I-ORG\n",
              "1    JJ      O\n",
              "2    NN      O\n",
              "3     -      O\n",
              "4   NNP      O\n",
              "..  ...    ...\n",
              "7    CD      O\n",
              "8     )      O\n",
              "0   NNP      O\n",
              "1     :      O\n",
              "2    CD      O\n",
              "\n",
              "[26211 rows x 2 columns]"
            ]
          },
          "metadata": {},
          "execution_count": 560
        }
      ]
    },
    {
      "cell_type": "markdown",
      "source": [
        "Groub the data to see each distinic pair of (POS,NER) how many times appear in the data"
      ],
      "metadata": {
        "id": "-zYLLunEcWBd"
      }
    },
    {
      "cell_type": "code",
      "source": [
        "stats = result.groupby([\"POS\",\"NER\"]).size().rename(\"count\").reset_index().sort_values('count').loc[:,[\"POS\",\"NER\",\"count\"]]\n",
        "stats"
      ],
      "metadata": {
        "colab": {
          "base_uri": "https://localhost:8080/",
          "height": 423
        },
        "id": "mbw0d9ToQdld",
        "outputId": "7429c2d8-eb11-4ff2-caaf-392c8c330d1d"
      },
      "execution_count": null,
      "outputs": [
        {
          "output_type": "execute_result",
          "data": {
            "text/html": [
              "\n",
              "  <div id=\"df-c94ff4c4-dd45-4d67-8e5b-bd975a00b599\">\n",
              "    <div class=\"colab-df-container\">\n",
              "      <div>\n",
              "<style scoped>\n",
              "    .dataframe tbody tr th:only-of-type {\n",
              "        vertical-align: middle;\n",
              "    }\n",
              "\n",
              "    .dataframe tbody tr th {\n",
              "        vertical-align: top;\n",
              "    }\n",
              "\n",
              "    .dataframe thead th {\n",
              "        text-align: right;\n",
              "    }\n",
              "</style>\n",
              "<table border=\"1\" class=\"dataframe\">\n",
              "  <thead>\n",
              "    <tr style=\"text-align: right;\">\n",
              "      <th></th>\n",
              "      <th>POS</th>\n",
              "      <th>NER</th>\n",
              "      <th>count</th>\n",
              "    </tr>\n",
              "  </thead>\n",
              "  <tbody>\n",
              "    <tr>\n",
              "      <th>39</th>\n",
              "      <td>NNP</td>\n",
              "      <td>B-MISC</td>\n",
              "      <td>1</td>\n",
              "    </tr>\n",
              "    <tr>\n",
              "      <th>56</th>\n",
              "      <td>RB</td>\n",
              "      <td>I-LOC</td>\n",
              "      <td>1</td>\n",
              "    </tr>\n",
              "    <tr>\n",
              "      <th>48</th>\n",
              "      <td>NNPS</td>\n",
              "      <td>O</td>\n",
              "      <td>1</td>\n",
              "    </tr>\n",
              "    <tr>\n",
              "      <th>33</th>\n",
              "      <td>LS</td>\n",
              "      <td>O</td>\n",
              "      <td>1</td>\n",
              "    </tr>\n",
              "    <tr>\n",
              "      <th>22</th>\n",
              "      <td>IN</td>\n",
              "      <td>I-MISC</td>\n",
              "      <td>1</td>\n",
              "    </tr>\n",
              "    <tr>\n",
              "      <th>...</th>\n",
              "      <td>...</td>\n",
              "      <td>...</td>\n",
              "      <td>...</td>\n",
              "    </tr>\n",
              "    <tr>\n",
              "      <th>43</th>\n",
              "      <td>NNP</td>\n",
              "      <td>I-PER</td>\n",
              "      <td>1446</td>\n",
              "    </tr>\n",
              "    <tr>\n",
              "      <th>18</th>\n",
              "      <td>DT</td>\n",
              "      <td>O</td>\n",
              "      <td>1782</td>\n",
              "    </tr>\n",
              "    <tr>\n",
              "      <th>15</th>\n",
              "      <td>CD</td>\n",
              "      <td>O</td>\n",
              "      <td>1998</td>\n",
              "    </tr>\n",
              "    <tr>\n",
              "      <th>25</th>\n",
              "      <td>IN</td>\n",
              "      <td>O</td>\n",
              "      <td>2503</td>\n",
              "    </tr>\n",
              "    <tr>\n",
              "      <th>38</th>\n",
              "      <td>NN</td>\n",
              "      <td>O</td>\n",
              "      <td>3075</td>\n",
              "    </tr>\n",
              "  </tbody>\n",
              "</table>\n",
              "<p>76 rows × 3 columns</p>\n",
              "</div>\n",
              "      <button class=\"colab-df-convert\" onclick=\"convertToInteractive('df-c94ff4c4-dd45-4d67-8e5b-bd975a00b599')\"\n",
              "              title=\"Convert this dataframe to an interactive table.\"\n",
              "              style=\"display:none;\">\n",
              "        \n",
              "  <svg xmlns=\"http://www.w3.org/2000/svg\" height=\"24px\"viewBox=\"0 0 24 24\"\n",
              "       width=\"24px\">\n",
              "    <path d=\"M0 0h24v24H0V0z\" fill=\"none\"/>\n",
              "    <path d=\"M18.56 5.44l.94 2.06.94-2.06 2.06-.94-2.06-.94-.94-2.06-.94 2.06-2.06.94zm-11 1L8.5 8.5l.94-2.06 2.06-.94-2.06-.94L8.5 2.5l-.94 2.06-2.06.94zm10 10l.94 2.06.94-2.06 2.06-.94-2.06-.94-.94-2.06-.94 2.06-2.06.94z\"/><path d=\"M17.41 7.96l-1.37-1.37c-.4-.4-.92-.59-1.43-.59-.52 0-1.04.2-1.43.59L10.3 9.45l-7.72 7.72c-.78.78-.78 2.05 0 2.83L4 21.41c.39.39.9.59 1.41.59.51 0 1.02-.2 1.41-.59l7.78-7.78 2.81-2.81c.8-.78.8-2.07 0-2.86zM5.41 20L4 18.59l7.72-7.72 1.47 1.35L5.41 20z\"/>\n",
              "  </svg>\n",
              "      </button>\n",
              "      \n",
              "  <style>\n",
              "    .colab-df-container {\n",
              "      display:flex;\n",
              "      flex-wrap:wrap;\n",
              "      gap: 12px;\n",
              "    }\n",
              "\n",
              "    .colab-df-convert {\n",
              "      background-color: #E8F0FE;\n",
              "      border: none;\n",
              "      border-radius: 50%;\n",
              "      cursor: pointer;\n",
              "      display: none;\n",
              "      fill: #1967D2;\n",
              "      height: 32px;\n",
              "      padding: 0 0 0 0;\n",
              "      width: 32px;\n",
              "    }\n",
              "\n",
              "    .colab-df-convert:hover {\n",
              "      background-color: #E2EBFA;\n",
              "      box-shadow: 0px 1px 2px rgba(60, 64, 67, 0.3), 0px 1px 3px 1px rgba(60, 64, 67, 0.15);\n",
              "      fill: #174EA6;\n",
              "    }\n",
              "\n",
              "    [theme=dark] .colab-df-convert {\n",
              "      background-color: #3B4455;\n",
              "      fill: #D2E3FC;\n",
              "    }\n",
              "\n",
              "    [theme=dark] .colab-df-convert:hover {\n",
              "      background-color: #434B5C;\n",
              "      box-shadow: 0px 1px 3px 1px rgba(0, 0, 0, 0.15);\n",
              "      filter: drop-shadow(0px 1px 2px rgba(0, 0, 0, 0.3));\n",
              "      fill: #FFFFFF;\n",
              "    }\n",
              "  </style>\n",
              "\n",
              "      <script>\n",
              "        const buttonEl =\n",
              "          document.querySelector('#df-c94ff4c4-dd45-4d67-8e5b-bd975a00b599 button.colab-df-convert');\n",
              "        buttonEl.style.display =\n",
              "          google.colab.kernel.accessAllowed ? 'block' : 'none';\n",
              "\n",
              "        async function convertToInteractive(key) {\n",
              "          const element = document.querySelector('#df-c94ff4c4-dd45-4d67-8e5b-bd975a00b599');\n",
              "          const dataTable =\n",
              "            await google.colab.kernel.invokeFunction('convertToInteractive',\n",
              "                                                     [key], {});\n",
              "          if (!dataTable) return;\n",
              "\n",
              "          const docLinkHtml = 'Like what you see? Visit the ' +\n",
              "            '<a target=\"_blank\" href=https://colab.research.google.com/notebooks/data_table.ipynb>data table notebook</a>'\n",
              "            + ' to learn more about interactive tables.';\n",
              "          element.innerHTML = '';\n",
              "          dataTable['output_type'] = 'display_data';\n",
              "          await google.colab.output.renderOutput(dataTable, element);\n",
              "          const docLink = document.createElement('div');\n",
              "          docLink.innerHTML = docLinkHtml;\n",
              "          element.appendChild(docLink);\n",
              "        }\n",
              "      </script>\n",
              "    </div>\n",
              "  </div>\n",
              "  "
            ],
            "text/plain": [
              "     POS     NER  count\n",
              "39   NNP  B-MISC      1\n",
              "56    RB   I-LOC      1\n",
              "48  NNPS       O      1\n",
              "33    LS       O      1\n",
              "22    IN  I-MISC      1\n",
              "..   ...     ...    ...\n",
              "43   NNP   I-PER   1446\n",
              "18    DT       O   1782\n",
              "15    CD       O   1998\n",
              "25    IN       O   2503\n",
              "38    NN       O   3075\n",
              "\n",
              "[76 rows x 3 columns]"
            ]
          },
          "metadata": {},
          "execution_count": 561
        }
      ]
    },
    {
      "cell_type": "code",
      "source": [
        "stats.plot.bar(figsize=(50, 50))\n"
      ],
      "metadata": {
        "colab": {
          "base_uri": "https://localhost:8080/",
          "height": 1000
        },
        "id": "B8ScA6X1O4y-",
        "outputId": "c9a819e2-8f3d-4930-c853-cab087d83329"
      },
      "execution_count": null,
      "outputs": [
        {
          "output_type": "execute_result",
          "data": {
            "text/plain": [
              "<matplotlib.axes._subplots.AxesSubplot at 0x7f69ae7a1410>"
            ]
          },
          "metadata": {},
          "execution_count": 562
        },
        {
          "output_type": "display_data",
          "data": {
            "image/png": "[encoded data removed]",
            "text/plain": [
              "<Figure size 3600x3600 with 1 Axes>"
            ]
          },
          "metadata": {
            "needs_background": "light"
          }
        }
      ]
    },
    {
      "cell_type": "markdown",
      "source": [
        ""
      ],
      "metadata": {
        "id": "8nYztjkvcnH0"
      }
    },
    {
      "cell_type": "markdown",
      "source": [
        "**for each \"POS\" categorie  see how many times model recognise that these word is named entity -> its not \"O\" categorie**"
      ],
      "metadata": {
        "id": "pvt9u6STcqlM"
      }
    },
    {
      "cell_type": "code",
      "source": [
        "pvalues = result[\"POS\"].unique().tolist()\n",
        "counts = []\n",
        "for i in pvalues:\n",
        "  counts.append(len(result[result[\"POS\"]==i][\"NER\"]!=\"O\"))\n"
      ],
      "metadata": {
        "id": "6hJcjeUGO7_D"
      },
      "execution_count": null,
      "outputs": []
    },
    {
      "cell_type": "markdown",
      "source": [
        "**make DataFrame contains the \"POS\" categories and Count of Recognized and plot the result **\n"
      ],
      "metadata": {
        "id": "ygqBV6CHc8aV"
      }
    },
    {
      "cell_type": "code",
      "source": [
        "d = {\"POS\":pvalues,\"number_of_times_Recognized\":counts}\n",
        "pd.DataFrame(d).sort_values(\"number_of_times_Recognized\").plot.bar(figsize=(40, 10))\n",
        "\n"
      ],
      "metadata": {
        "colab": {
          "base_uri": "https://localhost:8080/",
          "height": 632
        },
        "id": "YFEA9vKnVX85",
        "outputId": "96336830-f496-44c7-af10-7a2b828fec3d"
      },
      "execution_count": null,
      "outputs": [
        {
          "output_type": "execute_result",
          "data": {
            "text/plain": [
              "<matplotlib.axes._subplots.AxesSubplot at 0x7f69ae08e350>"
            ]
          },
          "metadata": {},
          "execution_count": 564
        },
        {
          "output_type": "display_data",
          "data": {
            "image/png": "[encoded data removed]",
            "text/plain": [
              "<Figure size 2880x720 with 1 Axes>"
            ]
          },
          "metadata": {
            "needs_background": "light"
          }
        }
      ]
    },
    {
      "cell_type": "markdown",
      "source": [
        "We can see that the most frequant \"POS\" categorie that been recognized by model is \"NNP\" **bold text**"
      ],
      "metadata": {
        "id": "iYjMqPQodKEe"
      }
    },
    {
      "cell_type": "markdown",
      "source": [
        "**Wich is considered a good sign becouse its makes sense that the nouns or persons Names is the largest Categorie appears in any text in average cases**"
      ],
      "metadata": {
        "id": "nRtcmV-idwmQ"
      }
    }
  ]
}